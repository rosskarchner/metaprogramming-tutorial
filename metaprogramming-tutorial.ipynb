{
 "cells": [
  {
   "cell_type": "markdown",
   "metadata": {},
   "source": [
    "A short exploration of some metaprogramming techniques for Python, inspired by [Full Monty: Intro to Python Metaprogramming](http://www.oscon.com/oscon2014/public/schedule/detail/34107)."
   ]
  },
  {
   "cell_type": "markdown",
   "metadata": {},
   "source": [
    "## Decorators"
   ]
  },
  {
   "cell_type": "markdown",
   "metadata": {},
   "source": [
    "If you've been writing Python for a while, you've almost certainly seen decorators. They look like this:\n",
    "\n",
    "```python\n",
    "@decorator\n",
    "def some_function():\n",
    "    pass\n",
    "```\n",
    "\n",
    "Do you know what that is doing? Here's a hint: it's a shortcut for this formulation:\n",
    "\n",
    "```python\n",
    "some_function = decorator(some_function)\n",
    "```\n",
    "\n",
    "A decorator is a function that:\n",
    " - accepts a *callable* as an argument\n",
    " - (hopefully) returns a callable that can (hopefully) be used in place of the original\n",
    "\n",
    "A *callable* is any object that executes code when you invoke it with parentheses. Functions are callables, but so are classes, methods, types, and any object that has a \\_\\_call\\_\\_ method. By \"decorating\" a callable, you are altering, wrapping, or replacing it."
   ]
  },
  {
   "cell_type": "code",
   "execution_count": 75,
   "metadata": {
    "collapsed": false
   },
   "outputs": [
    {
     "name": "stdout",
     "output_type": "stream",
     "text": [
      "are you sure?\n",
      "5\n"
     ]
    }
   ],
   "source": [
    "# a simple function decorator\n",
    "def silly_decorator(func):\n",
    "    def better_func(*args, **kwargs):\n",
    "        if hasattr(func, 'yesiamsure'):\n",
    "            return func(*args,**kwargs)\n",
    "        else:\n",
    "            func.yesiamsure = True\n",
    "            return \"are you sure?\"\n",
    "    return better_func\n",
    "    \n",
    "\n",
    "@silly_decorator\n",
    "def serious_math(a, b):\n",
    "    return a +b\n",
    "\n",
    "print serious_math(2,3)\n",
    "print serious_math(2,3)"
   ]
  },
  {
   "cell_type": "markdown",
   "metadata": {},
   "source": [
    "## the @property decorator"
   ]
  },
  {
   "cell_type": "markdown",
   "metadata": {},
   "source": [
    "Let us imagine a shopping cart application. Every item in an order is represented by a LineItem, encapsulating the price and quantity.\n",
    "\n",
    "LineItem offers a \"total\" method, that returns the total price (quantity * item price)."
   ]
  },
  {
   "cell_type": "code",
   "execution_count": 67,
   "metadata": {
    "collapsed": false
   },
   "outputs": [
    {
     "name": "stdout",
     "output_type": "stream",
     "text": [
      "4.5\n"
     ]
    }
   ],
   "source": [
    "class LineItem(object):\n",
    "    def __init__(self, price, quantity):\n",
    "        self.price = price\n",
    "        self.quantity = quantity\n",
    "        \n",
    "\n",
    "    \n",
    "    def total(self):\n",
    "        return self.price * self.quantity\n",
    "    \n",
    "bananas = LineItem(1.5, 3)\n",
    "print bananas.total()"
   ]
  },
  {
   "cell_type": "markdown",
   "metadata": {},
   "source": [
    "Yum!\n",
    "\n",
    "There's a big problem, though:\n"
   ]
  },
  {
   "cell_type": "code",
   "execution_count": 59,
   "metadata": {
    "collapsed": false
   },
   "outputs": [
    {
     "name": "stdout",
     "output_type": "stream",
     "text": [
      "-6.0\n"
     ]
    }
   ],
   "source": [
    "mangoes = LineItem( 2.0, -3)\n",
    "\n",
    "print mangoes.total()"
   ]
  },
  {
   "cell_type": "markdown",
   "metadata": {},
   "source": [
    "We shouldn't allow LineItems to be created with negative values."
   ]
  },
  {
   "cell_type": "markdown",
   "metadata": {},
   "source": [
    "One way to solve this would be to use the 'property' decorator, which allows you define a \"setter\" method that is invoked every time you try to set the value, even in \\_init\\_! "
   ]
  },
  {
   "cell_type": "code",
   "execution_count": 60,
   "metadata": {
    "collapsed": false
   },
   "outputs": [
    {
     "ename": "ValueError",
     "evalue": "quantity must be greater that 0!",
     "output_type": "error",
     "traceback": [
      "\u001b[0;31m---------------------------------------------------------------------------\u001b[0m",
      "\u001b[0;31mValueError\u001b[0m                                Traceback (most recent call last)",
      "\u001b[0;32m<ipython-input-60-3ebf54b6b2d7>\u001b[0m in \u001b[0;36m<module>\u001b[0;34m()\u001b[0m\n\u001b[1;32m     20\u001b[0m         \u001b[0;32mreturn\u001b[0m \u001b[0mself\u001b[0m\u001b[0;34m.\u001b[0m\u001b[0mprice\u001b[0m \u001b[0;34m*\u001b[0m \u001b[0mself\u001b[0m\u001b[0;34m.\u001b[0m\u001b[0mquantity\u001b[0m\u001b[0;34m\u001b[0m\u001b[0m\n\u001b[1;32m     21\u001b[0m \u001b[0;34m\u001b[0m\u001b[0m\n\u001b[0;32m---> 22\u001b[0;31m \u001b[0mmangoes\u001b[0m \u001b[0;34m=\u001b[0m \u001b[0mLineItem\u001b[0m\u001b[0;34m(\u001b[0m\u001b[0;36m2.0\u001b[0m\u001b[0;34m,\u001b[0m \u001b[0;34m-\u001b[0m\u001b[0;36m3\u001b[0m\u001b[0;34m)\u001b[0m\u001b[0;34m\u001b[0m\u001b[0m\n\u001b[0m",
      "\u001b[0;32m<ipython-input-60-3ebf54b6b2d7>\u001b[0m in \u001b[0;36m__init__\u001b[0;34m(self, price, quantity)\u001b[0m\n\u001b[1;32m      2\u001b[0m     \u001b[0;32mdef\u001b[0m \u001b[0m__init__\u001b[0m\u001b[0;34m(\u001b[0m\u001b[0mself\u001b[0m\u001b[0;34m,\u001b[0m \u001b[0mprice\u001b[0m\u001b[0;34m,\u001b[0m \u001b[0mquantity\u001b[0m\u001b[0;34m)\u001b[0m\u001b[0;34m:\u001b[0m\u001b[0;34m\u001b[0m\u001b[0m\n\u001b[1;32m      3\u001b[0m         \u001b[0mself\u001b[0m\u001b[0;34m.\u001b[0m\u001b[0mprice\u001b[0m \u001b[0;34m=\u001b[0m \u001b[0mprice\u001b[0m\u001b[0;34m\u001b[0m\u001b[0m\n\u001b[0;32m----> 4\u001b[0;31m         \u001b[0mself\u001b[0m\u001b[0;34m.\u001b[0m\u001b[0mquantity\u001b[0m \u001b[0;34m=\u001b[0m \u001b[0mquantity\u001b[0m\u001b[0;34m\u001b[0m\u001b[0m\n\u001b[0m\u001b[1;32m      5\u001b[0m \u001b[0;34m\u001b[0m\u001b[0m\n\u001b[1;32m      6\u001b[0m \u001b[0;34m\u001b[0m\u001b[0m\n",
      "\u001b[0;32m<ipython-input-60-3ebf54b6b2d7>\u001b[0m in \u001b[0;36mquantity\u001b[0;34m(self, value)\u001b[0m\n\u001b[1;32m     14\u001b[0m             \u001b[0mself\u001b[0m\u001b[0;34m.\u001b[0m\u001b[0m_quantity\u001b[0m \u001b[0;34m=\u001b[0m \u001b[0mvalue\u001b[0m\u001b[0;34m\u001b[0m\u001b[0m\n\u001b[1;32m     15\u001b[0m         \u001b[0;32melse\u001b[0m\u001b[0;34m:\u001b[0m\u001b[0;34m\u001b[0m\u001b[0m\n\u001b[0;32m---> 16\u001b[0;31m             \u001b[0;32mraise\u001b[0m \u001b[0mValueError\u001b[0m\u001b[0;34m(\u001b[0m\u001b[0;34m\"quantity must be greater that 0!\"\u001b[0m\u001b[0;34m)\u001b[0m\u001b[0;34m\u001b[0m\u001b[0m\n\u001b[0m\u001b[1;32m     17\u001b[0m \u001b[0;34m\u001b[0m\u001b[0m\n\u001b[1;32m     18\u001b[0m \u001b[0;34m\u001b[0m\u001b[0m\n",
      "\u001b[0;31mValueError\u001b[0m: quantity must be greater that 0!"
     ]
    }
   ],
   "source": [
    "class LineItem(object):\n",
    "    def __init__(self, price, quantity):\n",
    "        self.price = price\n",
    "        self.quantity = quantity\n",
    "        \n",
    "\n",
    "    @property\n",
    "    def quantity(self):\n",
    "        return self._quantity\n",
    "    \n",
    "    @quantity.setter\n",
    "    def quantity(self, value):\n",
    "        if value > 0:\n",
    "            self._quantity = value\n",
    "        else:\n",
    "            raise ValueError(\"quantity must be greater that 0!\")\n",
    "        \n",
    "    \n",
    "    def total(self):\n",
    "        return self.price * self.quantity\n",
    "    \n",
    "mangoes = LineItem(2.0, -3)"
   ]
  },
  {
   "cell_type": "markdown",
   "metadata": {},
   "source": [
    "## Encapsulate property behaviors with descriptors"
   ]
  },
  {
   "cell_type": "markdown",
   "metadata": {},
   "source": [
    "What if we wanted to do the same thing with prices? We could use do some quick copy and paste work, and implement another property:"
   ]
  },
  {
   "cell_type": "code",
   "execution_count": 68,
   "metadata": {
    "collapsed": false
   },
   "outputs": [],
   "source": [
    "class LineItem(object):\n",
    "    def __init__(self, price, quantity):\n",
    "        self.price = price\n",
    "        self.quantity = quantity\n",
    "        \n",
    "\n",
    "    @property\n",
    "    def price(self):\n",
    "        return self._price\n",
    "    \n",
    "    @price.setter\n",
    "    def price(self, value):\n",
    "        if value > 0:\n",
    "            self._price = value\n",
    "        else:\n",
    "            raise ValueError(\"price must be greater that 0!\")\n",
    "        \n",
    "        \n",
    "    @property\n",
    "    def quantity(self):\n",
    "        return self._quantity\n",
    "    \n",
    "    @quantity.setter\n",
    "    def quantity(self, value):\n",
    "        if value > 0:\n",
    "            self._quantity = value\n",
    "        else:\n",
    "            raise ValueError(\"quantity must be greater that 0!\")\n",
    "        \n",
    "    \n",
    "    def total(self):\n",
    "        return self.price * self.quantity\n",
    "    \n"
   ]
  },
  {
   "cell_type": "markdown",
   "metadata": {},
   "source": [
    "But that is... unsatisfying, and violates [DRY](http://c2.com/cgi/wiki?DontRepeatYourself). It wouldn't be difficult to extract the validation logic into a function or method, but that doesn't buy us much.\n",
    "\n",
    "The feature Python provides to deal with this sort of situation is called \"[descriptors](https://docs.python.org/2/howto/descriptor.html)\". With descriptors, a class can delegate setting, getting, and deleting a particular attribute to another object.\n",
    "\n",
    "In fact, any *instance* attached to a *class*, can be a descriptor, as long as it conforms to the [descriptor protocol](https://docs.python.org/2/howto/descriptor.html#id4).\n",
    "\n",
    "A descriptor that encapsulates our validation logic might look like:"
   ]
  },
  {
   "cell_type": "code",
   "execution_count": 62,
   "metadata": {
    "collapsed": true
   },
   "outputs": [],
   "source": [
    "class PositiveNumber(object):\n",
    "    def __init__(self, storage_name):\n",
    "        self.storage_name = storage_name\n",
    "        \n",
    "    def __set__(self, obj, value):\n",
    "        if value > 0:\n",
    "            obj.__dict__[self.storage_name] = value\n",
    "        else:\n",
    "            raise ValueError(\"%s must be greater that 0!\" % self.storage_name)"
   ]
  },
  {
   "cell_type": "code",
   "execution_count": 63,
   "metadata": {
    "collapsed": false
   },
   "outputs": [],
   "source": [
    "class LineItem(object):\n",
    "    price = PositiveNumber('price')\n",
    "    quantity = PositiveNumber('quantity')\n",
    "    \n",
    "    def __init__(self, price, quantity):\n",
    "        self.price = price\n",
    "        self.quantity = quantity\n",
    "    \n",
    "    def total(self):\n",
    "        return self.price * self.quantity"
   ]
  },
  {
   "cell_type": "markdown",
   "metadata": {},
   "source": [
    "Negative prices and negative quantities now fail as expected"
   ]
  },
  {
   "cell_type": "code",
   "execution_count": 64,
   "metadata": {
    "collapsed": false
   },
   "outputs": [
    {
     "ename": "ValueError",
     "evalue": "price must be greater that 0!",
     "output_type": "error",
     "traceback": [
      "\u001b[0;31m---------------------------------------------------------------------------\u001b[0m",
      "\u001b[0;31mValueError\u001b[0m                                Traceback (most recent call last)",
      "\u001b[0;32m<ipython-input-64-ca5373214194>\u001b[0m in \u001b[0;36m<module>\u001b[0;34m()\u001b[0m\n\u001b[0;32m----> 1\u001b[0;31m \u001b[0mprunes\u001b[0m \u001b[0;34m=\u001b[0m \u001b[0mLineItem\u001b[0m\u001b[0;34m(\u001b[0m\u001b[0;34m-\u001b[0m\u001b[0;36m1\u001b[0m\u001b[0;34m,\u001b[0m\u001b[0;36m1\u001b[0m\u001b[0;34m)\u001b[0m\u001b[0;34m\u001b[0m\u001b[0m\n\u001b[0m",
      "\u001b[0;32m<ipython-input-63-124f7fb19572>\u001b[0m in \u001b[0;36m__init__\u001b[0;34m(self, price, quantity)\u001b[0m\n\u001b[1;32m      4\u001b[0m \u001b[0;34m\u001b[0m\u001b[0m\n\u001b[1;32m      5\u001b[0m     \u001b[0;32mdef\u001b[0m \u001b[0m__init__\u001b[0m\u001b[0;34m(\u001b[0m\u001b[0mself\u001b[0m\u001b[0;34m,\u001b[0m \u001b[0mprice\u001b[0m\u001b[0;34m,\u001b[0m \u001b[0mquantity\u001b[0m\u001b[0;34m)\u001b[0m\u001b[0;34m:\u001b[0m\u001b[0;34m\u001b[0m\u001b[0m\n\u001b[0;32m----> 6\u001b[0;31m         \u001b[0mself\u001b[0m\u001b[0;34m.\u001b[0m\u001b[0mprice\u001b[0m \u001b[0;34m=\u001b[0m \u001b[0mprice\u001b[0m\u001b[0;34m\u001b[0m\u001b[0m\n\u001b[0m\u001b[1;32m      7\u001b[0m         \u001b[0mself\u001b[0m\u001b[0;34m.\u001b[0m\u001b[0mquantity\u001b[0m \u001b[0;34m=\u001b[0m \u001b[0mquantity\u001b[0m\u001b[0;34m\u001b[0m\u001b[0m\n\u001b[1;32m      8\u001b[0m \u001b[0;34m\u001b[0m\u001b[0m\n",
      "\u001b[0;32m<ipython-input-62-75b2a0f6c355>\u001b[0m in \u001b[0;36m__set__\u001b[0;34m(self, obj, value)\u001b[0m\n\u001b[1;32m      7\u001b[0m             \u001b[0mobj\u001b[0m\u001b[0;34m.\u001b[0m\u001b[0m__dict__\u001b[0m\u001b[0;34m[\u001b[0m\u001b[0mself\u001b[0m\u001b[0;34m.\u001b[0m\u001b[0mstorage_name\u001b[0m\u001b[0;34m]\u001b[0m \u001b[0;34m=\u001b[0m \u001b[0mvalue\u001b[0m\u001b[0;34m\u001b[0m\u001b[0m\n\u001b[1;32m      8\u001b[0m         \u001b[0;32melse\u001b[0m\u001b[0;34m:\u001b[0m\u001b[0;34m\u001b[0m\u001b[0m\n\u001b[0;32m----> 9\u001b[0;31m             \u001b[0;32mraise\u001b[0m \u001b[0mValueError\u001b[0m\u001b[0;34m(\u001b[0m\u001b[0;34m\"%s must be greater that 0!\"\u001b[0m \u001b[0;34m%\u001b[0m \u001b[0mself\u001b[0m\u001b[0;34m.\u001b[0m\u001b[0mstorage_name\u001b[0m\u001b[0;34m)\u001b[0m\u001b[0;34m\u001b[0m\u001b[0m\n\u001b[0m",
      "\u001b[0;31mValueError\u001b[0m: price must be greater that 0!"
     ]
    }
   ],
   "source": [
    "prunes = LineItem(-1,1)"
   ]
  },
  {
   "cell_type": "code",
   "execution_count": 66,
   "metadata": {
    "collapsed": false
   },
   "outputs": [
    {
     "name": "stdout",
     "output_type": "stream",
     "text": [
      "1\n"
     ]
    }
   ],
   "source": [
    "apples = LineItem(1,1)\n",
    "print apples.total()"
   ]
  },
  {
   "cell_type": "code",
   "execution_count": null,
   "metadata": {
    "collapsed": true
   },
   "outputs": [],
   "source": []
  }
 ],
 "metadata": {
  "kernelspec": {
   "display_name": "Python 2",
   "language": "python",
   "name": "python2"
  },
  "language_info": {
   "codemirror_mode": {
    "name": "ipython",
    "version": 2
   },
   "file_extension": ".py",
   "mimetype": "text/x-python",
   "name": "python",
   "nbconvert_exporter": "python",
   "pygments_lexer": "ipython2",
   "version": "2.7.10"
  }
 },
 "nbformat": 4,
 "nbformat_minor": 0
}
